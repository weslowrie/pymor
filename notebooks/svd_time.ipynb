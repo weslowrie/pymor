{
 "cells": [
  {
   "cell_type": "code",
   "execution_count": null,
   "metadata": {},
   "outputs": [],
   "source": [
    "import timeit\n",
    "\n",
    "import numpy as np\n",
    "import scipy.linalg as spla\n",
    "import matplotlib.pyplot as plt\n",
    "\n",
    "from pymor.algorithms.gram_schmidt import gram_schmidt\n",
    "from pymor.algorithms.svd_va import mos, qr_svd\n",
    "from pymor.vectorarrays.numpy import NumpyVectorSpace"
   ]
  },
  {
   "cell_type": "code",
   "execution_count": null,
   "metadata": {},
   "outputs": [],
   "source": [
    "ns = np.logspace(3, 4, 10, dtype=int)\n",
    "ms = np.linspace(10, 100, 10, dtype=int)\n",
    "N, M = np.meshgrid(ns, ms)\n",
    "\n",
    "def find_time(n, m, svd):\n",
    "    random = np.random.RandomState(0)\n",
    "    U = spla.qr(random.standard_normal((n, m)), mode='economic')[0]\n",
    "    s = np.logspace(-20, 1, m)[::-1]\n",
    "    Vh = spla.qr(random.standard_normal((m, m)), mode='economic')[0]\n",
    "    A = U * s @ Vh.T\n",
    "    Ava = NumpyVectorSpace(n).from_numpy(A.T)\n",
    "    return timeit.timeit('svd(Ava, check=False)', number=10, globals=locals())\n",
    "\n",
    "mos_time = np.vectorize(lambda n, m: find_time(n, m, mos))(N, M)\n",
    "qr_time = np.vectorize(lambda n, m: find_time(n, m, qr_svd))(N, M)"
   ]
  },
  {
   "cell_type": "code",
   "execution_count": null,
   "metadata": {},
   "outputs": [],
   "source": [
    "mos_time"
   ]
  },
  {
   "cell_type": "code",
   "execution_count": null,
   "metadata": {},
   "outputs": [],
   "source": [
    "qr_time"
   ]
  },
  {
   "cell_type": "code",
   "execution_count": null,
   "metadata": {},
   "outputs": [],
   "source": [
    "scale = qr_time / mos_time\n",
    "scale"
   ]
  },
  {
   "cell_type": "code",
   "execution_count": null,
   "metadata": {},
   "outputs": [],
   "source": [
    "scale.min(), scale.max()"
   ]
  },
  {
   "cell_type": "code",
   "execution_count": null,
   "metadata": {},
   "outputs": [],
   "source": [
    "np.quantile(scale, 0.25), np.quantile(scale, 0.75)"
   ]
  },
  {
   "cell_type": "code",
   "execution_count": null,
   "metadata": {},
   "outputs": [],
   "source": [
    "fig, ax = plt.subplots()\n",
    "cs = ax.imshow(scale)\n",
    "ax.set_xlabel('m')\n",
    "ax.set_ylabel('n')\n",
    "ax.set_xticklabels([0] + ms.tolist())\n",
    "ax.set_yticklabels([0] + ns.tolist())\n",
    "fig.colorbar(cs)\n",
    "plt.show()"
   ]
  }
 ],
 "metadata": {
  "kernelspec": {
   "display_name": "Python 3",
   "language": "python",
   "name": "python3"
  },
  "language_info": {
   "codemirror_mode": {
    "name": "ipython",
    "version": 3
   },
   "file_extension": ".py",
   "mimetype": "text/x-python",
   "name": "python",
   "nbconvert_exporter": "python",
   "pygments_lexer": "ipython3",
   "version": "3.6.8"
  }
 },
 "nbformat": 4,
 "nbformat_minor": 2
}
