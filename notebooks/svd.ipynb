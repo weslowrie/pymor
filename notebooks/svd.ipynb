{
 "cells": [
  {
   "cell_type": "raw",
   "metadata": {},
   "source": [
    "This file is part of the pyMOR project (http://www.pymor.org).\n",
    "Copyright 2013-2019 pyMOR developers and contributors. All rights reserved.\n",
    "License: BSD 2-Clause License (http://opensource.org/licenses/BSD-2-Clause)"
   ]
  },
  {
   "cell_type": "code",
   "execution_count": null,
   "metadata": {},
   "outputs": [],
   "source": [
    "import numpy as np\n",
    "import scipy.linalg as spla\n",
    "import matplotlib.pyplot as plt\n",
    "from matplotlib.ticker import MaxNLocator\n",
    "\n",
    "from pymor.algorithms.gram_schmidt import gram_schmidt\n",
    "from pymor.algorithms.svd_va import mos, qr_svd\n",
    "from pymor.core.exceptions import AccuracyError\n",
    "from pymor.vectorarrays.numpy import NumpyVectorSpace"
   ]
  },
  {
   "cell_type": "markdown",
   "metadata": {},
   "source": [
    "# Setup"
   ]
  },
  {
   "cell_type": "code",
   "execution_count": null,
   "metadata": {},
   "outputs": [],
   "source": [
    "n = 1000\n",
    "m = 50\n",
    "random = np.random.RandomState(0)\n",
    "U = spla.qr(random.standard_normal((n, m)), mode='economic')[0]\n",
    "s = np.logspace(-20, 1, m)[::-1]\n",
    "Vh = spla.qr(random.standard_normal((m, m)), mode='economic')[0]\n",
    "A = U * s @ Vh.T\n",
    "Ava = NumpyVectorSpace(n).from_numpy(A.T)"
   ]
  },
  {
   "cell_type": "code",
   "execution_count": null,
   "metadata": {},
   "outputs": [],
   "source": [
    "U_svd, s_svd, Vh_svd = spla.svd(A, lapack_driver='gesvd')"
   ]
  },
  {
   "cell_type": "code",
   "execution_count": null,
   "metadata": {},
   "outputs": [],
   "source": [
    "fig, ax = plt.subplots()\n",
    "ax.xaxis.set_major_locator(MaxNLocator(integer=True))\n",
    "ax.semilogy(s, '.-', label='exact')\n",
    "ax.semilogy(s_svd, '.-', label='gesvd')\n",
    "ax.set_title('Singular values')\n",
    "ax.legend()\n",
    "plt.show()"
   ]
  },
  {
   "cell_type": "code",
   "execution_count": null,
   "metadata": {},
   "outputs": [],
   "source": [
    "fig, ax = plt.subplots()\n",
    "ax.xaxis.set_major_locator(MaxNLocator(integer=True))\n",
    "ax.semilogy(np.abs(s_svd - s) / np.sqrt(s_svd * s), '.-')\n",
    "ax.set_title('Relative error of gesvd singular values')\n",
    "plt.show()"
   ]
  },
  {
   "cell_type": "code",
   "execution_count": null,
   "metadata": {},
   "outputs": [],
   "source": [
    "def sin_max_angle(V, W):\n",
    "    \"\"\"Sine of the maximum princial angle between two subspaces given by orthonormal bases.\"\"\"\n",
    "    return spla.norm(V - W @ W.T @ V, ord=2)"
   ]
  },
  {
   "cell_type": "code",
   "execution_count": null,
   "metadata": {},
   "outputs": [],
   "source": [
    "fig, ax = plt.subplots()\n",
    "ax.xaxis.set_major_locator(MaxNLocator(integer=True))\n",
    "ax.semilogy([sin_max_angle(U_svd[:, :r], U[:, :r]) for r in range(1, m + 1)], '.-')\n",
    "ax.set_title('Sine of maximum principal angle between dominant left subspaces')\n",
    "plt.show()"
   ]
  },
  {
   "cell_type": "markdown",
   "metadata": {},
   "source": [
    "# Method of snapshots"
   ]
  },
  {
   "cell_type": "markdown",
   "metadata": {},
   "source": [
    "## Without additional orthonormalization"
   ]
  },
  {
   "cell_type": "code",
   "execution_count": null,
   "metadata": {},
   "outputs": [],
   "source": [
    "try:\n",
    "    mos(Ava)\n",
    "except AccuracyError as e:\n",
    "    print(e)"
   ]
  },
  {
   "cell_type": "code",
   "execution_count": null,
   "metadata": {},
   "outputs": [],
   "source": [
    "U_mos_wo, _, _ = mos(Ava, check=False)"
   ]
  },
  {
   "cell_type": "code",
   "execution_count": null,
   "metadata": {},
   "outputs": [],
   "source": [
    "Q_mos_wo, R_mos_wo = gram_schmidt(U_mos_wo, return_R=True, atol=0, rtol=0)"
   ]
  },
  {
   "cell_type": "code",
   "execution_count": null,
   "metadata": {},
   "outputs": [],
   "source": [
    "spla.svdvals(R_mos_wo)"
   ]
  },
  {
   "cell_type": "markdown",
   "metadata": {},
   "source": [
    "## With additional orthonormalization"
   ]
  },
  {
   "cell_type": "code",
   "execution_count": null,
   "metadata": {},
   "outputs": [],
   "source": [
    "U_mos, s_mos, Vh_mos = mos(Ava, rtol=0, check=False)\n",
    "U_mos = U_mos.to_numpy().T"
   ]
  },
  {
   "cell_type": "code",
   "execution_count": null,
   "metadata": {},
   "outputs": [],
   "source": [
    "len(s_mos)"
   ]
  },
  {
   "cell_type": "code",
   "execution_count": null,
   "metadata": {},
   "outputs": [],
   "source": [
    "fig, ax = plt.subplots()\n",
    "ax.xaxis.set_major_locator(MaxNLocator(integer=True))\n",
    "ax.semilogy(s, '.-', label='exact')\n",
    "ax.semilogy(s_svd, '.-', label='gesvd')\n",
    "ax.semilogy(s_mos, '.-', label='mos')\n",
    "ax.set_title('Singular values')\n",
    "ax.legend()\n",
    "plt.show()"
   ]
  },
  {
   "cell_type": "code",
   "execution_count": null,
   "metadata": {},
   "outputs": [],
   "source": [
    "fig, ax = plt.subplots()\n",
    "ax.xaxis.set_major_locator(MaxNLocator(integer=True))\n",
    "ax.semilogy(np.abs(s_svd - s), '.-', label='gesvd - exact')\n",
    "ax.semilogy(np.abs(s_mos - s[:len(s_mos)]), '.-', label='mos - exact')\n",
    "ax.set_title('Absolute distances between singular values')\n",
    "ax.legend()\n",
    "plt.show()"
   ]
  },
  {
   "cell_type": "code",
   "execution_count": null,
   "metadata": {},
   "outputs": [],
   "source": [
    "fig, ax = plt.subplots()\n",
    "ax.xaxis.set_major_locator(MaxNLocator(integer=True))\n",
    "ax.semilogy(np.abs(s_svd - s) / np.sqrt(s_svd * s), '.-', label='gesvd - exact')\n",
    "ax.semilogy(np.abs(s_mos - s[:len(s_mos)]) / np.sqrt(s_mos * s[:len(s_mos)]), '.-', label='mos - exact')\n",
    "ax.set_title('Relative distances between singular values')\n",
    "ax.legend()\n",
    "plt.show()"
   ]
  },
  {
   "cell_type": "code",
   "execution_count": null,
   "metadata": {},
   "outputs": [],
   "source": [
    "fig, ax = plt.subplots()\n",
    "ax.xaxis.set_major_locator(MaxNLocator(integer=True))\n",
    "ax.semilogy([sin_max_angle(U_svd[:, :r], U[:, :r]) for r in range(1, m + 1)], '.-', label='gesvd - exact')\n",
    "ax.semilogy([sin_max_angle(U_mos[:, :r], U[:, :r]) for r in range(1, len(s_mos))], '.-', label='mos - exact')\n",
    "ax.set_title('Sine of maximum principal angle between dominant left subspaces')\n",
    "ax.legend()\n",
    "plt.show()"
   ]
  },
  {
   "cell_type": "markdown",
   "metadata": {},
   "source": [
    "# QR + SVD"
   ]
  },
  {
   "cell_type": "code",
   "execution_count": null,
   "metadata": {},
   "outputs": [],
   "source": [
    "U_qr, s_qr, Vh_qr = qr_svd(Ava, rtol=0)\n",
    "U_qr = U_qr.to_numpy().T"
   ]
  },
  {
   "cell_type": "code",
   "execution_count": null,
   "metadata": {},
   "outputs": [],
   "source": [
    "fig, ax = plt.subplots()\n",
    "ax.xaxis.set_major_locator(MaxNLocator(integer=True))\n",
    "ax.semilogy(s, '.-', label='exact')\n",
    "ax.semilogy(s_svd, '.-', label='gesvd')\n",
    "ax.semilogy(s_qr, '.--', label='qr_svd')\n",
    "ax.set_title('Singular values')\n",
    "ax.legend()\n",
    "plt.show()"
   ]
  },
  {
   "cell_type": "code",
   "execution_count": null,
   "metadata": {},
   "outputs": [],
   "source": [
    "fig, ax = plt.subplots()\n",
    "ax.xaxis.set_major_locator(MaxNLocator(integer=True))\n",
    "ax.semilogy(np.abs(s_svd - s), '.-', label='gesvd - exact')\n",
    "ax.semilogy(np.abs(s_qr - s), '.-', label='qr_svd - exact')\n",
    "ax.set_title('Absolute distances between singular values')\n",
    "ax.legend()\n",
    "plt.show()"
   ]
  },
  {
   "cell_type": "code",
   "execution_count": null,
   "metadata": {},
   "outputs": [],
   "source": [
    "fig, ax = plt.subplots()\n",
    "ax.xaxis.set_major_locator(MaxNLocator(integer=True))\n",
    "ax.semilogy(np.abs(s_svd - s) / np.sqrt(s_svd * s), '.-', label='gesvd - exact')\n",
    "ax.semilogy(np.abs(s_qr - s) / np.sqrt(s_qr * s), '.-', label='qr_svd - exact')\n",
    "ax.set_title('Relative distances between singular values')\n",
    "ax.legend()\n",
    "plt.show()"
   ]
  },
  {
   "cell_type": "code",
   "execution_count": null,
   "metadata": {},
   "outputs": [],
   "source": [
    "fig, ax = plt.subplots()\n",
    "ax.xaxis.set_major_locator(MaxNLocator(integer=True))\n",
    "ax.semilogy([sin_max_angle(U_svd[:, :r], U[:, :r]) for r in range(1, m + 1)], '.-', label='gesvd - exact')\n",
    "ax.semilogy([sin_max_angle(U_qr[:, :r], U[:, :r]) for r in range(1, m + 1)], '.-', label='qr_svd - exact')\n",
    "ax.set_title('Sine of maximum principal angle between dominant left subspaces')\n",
    "ax.legend()\n",
    "plt.show()"
   ]
  }
 ],
 "metadata": {
  "kernelspec": {
   "display_name": "Python 3",
   "language": "python",
   "name": "python3"
  },
  "language_info": {
   "codemirror_mode": {
    "name": "ipython",
    "version": 3
   },
   "file_extension": ".py",
   "mimetype": "text/x-python",
   "name": "python",
   "nbconvert_exporter": "python",
   "pygments_lexer": "ipython3",
   "version": "3.6.8"
  }
 },
 "nbformat": 4,
 "nbformat_minor": 2
}
